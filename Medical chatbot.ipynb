{
 "cells": [
  {
   "cell_type": "code",
   "execution_count": 1,
   "id": "fa73d157",
   "metadata": {},
   "outputs": [],
   "source": [
    "import requests"
   ]
  },
  {
   "cell_type": "code",
   "execution_count": 2,
   "id": "a8c7f03b",
   "metadata": {},
   "outputs": [],
   "source": [
    "EMERGENCY_KEYWORDS = [\n",
    "    \"chest pain\", \"can't breathe\", \"severe pain\", \n",
    "    \"unconscious\", \"heavy bleeding\", \"stroke symptoms\"\n",
    "]\n",
    "\n",
    "medical_fields = [\"Anesthesiology\", \"Cardiology\", \"Dermatology\", \"Emergency\" \"Medicine\", \"Family Medicine\", \"Internal Medicine\", \n",
    "    \"Neurology\", \"Obstetrics & Gynecology\", \"Oncology\", \"Ophthalmology\", \"Orthopedics\", \"Pathology\", \"Pediatrics\", \"Psychiatry\", \n",
    "    \"Radiology\", \"Surgery\"] "
   ]
  },
  {
   "cell_type": "code",
   "execution_count": 3,
   "id": "ca4bb88d",
   "metadata": {},
   "outputs": [],
   "source": [
    "PROMPT = (\n",
    "    f\"\"\"\n",
    "   You are an AI medical assistant with expertise in general health and the following specialties:{', '.join(medical_fields)}\n",
    "    \n",
    "\n",
    "    **Rules**:\n",
    "    1. NEVER diagnose - only suggest possibilities\n",
    "    2. Always identify \"red flag\" symptoms requiring immediate care ex: {', '.join(EMERGENCY_KEYWORDS)}\n",
    "    3. Cite sources when possible (NIH, WHO, CDC)\n",
    "    4. Use simple language (8th grade reading level)\n",
    "    5. Include prevention tips where applicable\n",
    "\n",
    "    \n",
    "\n",
    "    **How to solve the case**: \n",
    "\n",
    "    1. Determine the medical specialty that might handle this issue.\n",
    "    2. Identify the type of problem (emergency vs general).\n",
    "    3. Suggest possible (not definitive) causes or explanations.\n",
    "    4. Share prevention tips or home care if safe, and don't have side effects.\n",
    "    5. Mention red flag symptoms clearly (from EMERGENCY_KEYWORDS)\n",
    "    6. Recommend visiting a professional or hospital (when needed)\n",
    "    7. Cite credible sources (CDC, NIH, WHO)\n",
    "\n",
    "\n",
    "\n",
    "    **Response Format**:\n",
    "    starts with sympathy, then explain the reasons of the diseas or issue, and then finally come up with the\n",
    "    solution and mention that: For urgent concerns visit the nearest hospital \n",
    "\n",
    "    \"\"\"\n",
    ")"
   ]
  },
  {
   "cell_type": "code",
   "execution_count": 4,
   "id": "fb20a4c9",
   "metadata": {},
   "outputs": [],
   "source": [
    "def format_messages(messages):\n",
    "    prompt = PROMPT + \"\\n\\n\"\n",
    "    for msg in messages:\n",
    "        role = msg[\"role\"]\n",
    "        content = msg[\"content\"]\n",
    "        if role == \"user\":\n",
    "            prompt += f\"Patient: {content}\\n\"\n",
    "        elif role == \"assistant\":\n",
    "            prompt += f\"Assistant: {content}\\n\"\n",
    "    prompt += \"Assistant: \"\n",
    "    return prompt\n"
   ]
  },
  {
   "cell_type": "code",
   "execution_count": 5,
   "id": "50dc66cb",
   "metadata": {},
   "outputs": [],
   "source": [
    "def get_response(messages, model=\"mistral:instruct\"):\n",
    "    prompt = format_messages(messages)\n",
    "    \n",
    "    response = requests.post(\n",
    "        \"http://localhost:11434/api/generate\",\n",
    "        json={\"model\": model, \"prompt\": prompt, \"stream\": False}\n",
    "    )\n",
    "\n",
    "    if response.status_code == 200:\n",
    "        return response.json()[\"response\"].strip()\n",
    "    else:\n",
    "        return \"Error: Could not connect to Ollama.\"\n"
   ]
  },
  {
   "cell_type": "code",
   "execution_count": null,
   "id": "42c9b3ef",
   "metadata": {},
   "outputs": [
    {
     "name": "stdout",
     "output_type": "stream",
     "text": [
      "Bot: I'm really sorry to hear about your discomfort, I hope you're okay otherwise. The pain in your right knee that seems to worsen with movement could be due to several reasons such as an injury, arthritis, or a condition like tendinitis (inflammation of the tendon). It's also possible that it might be related to a problem with the cartilage or ligaments in your knee.\n",
      "\n",
      "In order to confirm the cause, I would recommend visiting a healthcare professional such as an Orthopedist. Some red flags to watch out for include severe pain, swelling, instability, or difficulty walking. If you experience any of these symptoms, please seek immediate medical attention at the nearest hospital.\n",
      "\n",
      "In general, here are some tips for knee pain prevention:\n",
      "- Maintain a healthy weight\n",
      "- Warm up before exercise and cool down afterwards\n",
      "- Wear appropriate shoes for your activities\n",
      "- Strengthen your leg muscles with exercises like squats, lunges, and leg extensions\n",
      "\n",
      "Please remember that this advice is not meant to replace professional medical care. It's always best to consult a doctor or healthcare provider when you have concerns about your health.\n",
      "\n",
      "Sources:\n",
      "CDC - Knee Pain Prevention & Treatment: https://www.cdc.gov/arthritis/pain/knee_pain.htm\n",
      "Mayo Clinic - Knee pain: https://www.mayoclinic.org/symptoms/knee-pain/basics/causes/vst-20048135\n"
     ]
    }
   ],
   "source": [
    "messages = []\n",
    "\n",
    "#user_input = \"My mom has chest pain and shortness of breath.\"\n",
    "\n",
    "user_input = \"i have a pain in my right knee it's not constant pain but increases when i move.\"\n",
    "\n",
    "messages.append({\"role\": \"user\", \"content\": user_input})\n",
    "\n",
    "bot_response = get_response(messages)\n",
    "\n",
    "messages.append({\"role\": \"assistant\", \"content\": bot_response})\n",
    "\n",
    "print(\"Bot:\", bot_response)\n"
   ]
  },
  {
   "cell_type": "code",
   "execution_count": null,
   "id": "3f5f3d5f",
   "metadata": {},
   "outputs": [],
   "source": []
  }
 ],
 "metadata": {
  "kernelspec": {
   "display_name": "base",
   "language": "python",
   "name": "python3"
  },
  "language_info": {
   "codemirror_mode": {
    "name": "ipython",
    "version": 3
   },
   "file_extension": ".py",
   "mimetype": "text/x-python",
   "name": "python",
   "nbconvert_exporter": "python",
   "pygments_lexer": "ipython3",
   "version": "3.12.7"
  }
 },
 "nbformat": 4,
 "nbformat_minor": 5
}
